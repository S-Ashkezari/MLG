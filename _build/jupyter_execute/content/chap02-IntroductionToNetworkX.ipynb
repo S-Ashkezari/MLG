{
 "cells": [
  {
   "cell_type": "markdown",
   "id": "1a65f634-a878-49d4-b069-3a85763e8ea9",
   "metadata": {},
   "source": [
    "# Chapter 2: Introduction to NetworkX\n",
    "\n",
    "### 1. What is NetworkX?\n",
    "### 2. Creating and Visualizing Graphs\n",
    "### 3. Graph Attributes and Properties\n",
    "### 4. Graph Traversal and Algorithms\n",
    "### 5. Real-World Applications of NetworkX"
   ]
  },
  {
   "cell_type": "markdown",
   "id": "966ab6c8-6986-46a2-ac98-ac867eaa9e4d",
   "metadata": {},
   "source": [
    "## 1. What is NetworkX?\n",
    "\n",
    "\n",
    "NetworkX is a Python library designed for the creation, manipulation, and study of complex networks and graphs. \n",
    "It supports various graph types (directed, undirected, weighted, multi-graphs) and provides tools for visualization, analysis, and computation.\n",
    "\n",
    "## 2. Creating and Visualizing Graphs"
   ]
  },
  {
   "cell_type": "code",
   "execution_count": 1,
   "id": "1d13c6a9-bcac-4d41-bbe2-69099817d424",
   "metadata": {},
   "outputs": [
    {
     "data": {
      "image/png": "[encoded data removed]",
      "text/plain": [
       "<Figure size 500x500 with 1 Axes>"
      ]
     },
     "metadata": {},
     "output_type": "display_data"
    }
   ],
   "source": [
    "import networkx as nx\n",
    "import matplotlib.pyplot as plt\n",
    "\n",
    "\n",
    "\n",
    "# Creating an empty graph\n",
    "G = nx.Graph()\n",
    "\n",
    "# Adding nodes\n",
    "G.add_nodes_from([1, 2, 3, 4])\n",
    "\n",
    "# Adding edges\n",
    "G.add_edges_from([(1, 2), (2, 3), (3, 4), (4, 1), (1, 3)])\n",
    "\n",
    "# Visualizing the graph\n",
    "plt.figure(figsize=(5, 5))\n",
    "nx.draw(G, with_labels=True, node_color='lightblue', edge_color='gray')\n",
    "plt.title(\"Basic Graph Visualization\")\n",
    "plt.show()"
   ]
  },
  {
   "cell_type": "markdown",
   "id": "12ed61dd-65cc-4957-b23a-6e7de7e4b7a8",
   "metadata": {},
   "source": [
    "## 3. Graph Attributes and Properties"
   ]
  },
  {
   "cell_type": "code",
   "execution_count": 2,
   "id": "3ff1fe0a-7ee6-4a98-91ea-a2d2745597c7",
   "metadata": {},
   "outputs": [
    {
     "name": "stdout",
     "output_type": "stream",
     "text": [
      "Node attributes: [(1, {'role': 'admin'}), (2, {'role': 'user'}), (3, {}), (4, {})]\n",
      "Edge attributes: [(1, 2, {'weight': 5}), (1, 4, {}), (1, 3, {}), (2, 3, {}), (3, 4, {})]\n",
      "Number of nodes: 4\n",
      "Number of edges: 5\n"
     ]
    }
   ],
   "source": [
    "# Adding attributes to nodes and edges\n",
    "G.nodes[1]['role'] = 'admin'\n",
    "G.nodes[2]['role'] = 'user'\n",
    "G.edges[1, 2]['weight'] = 5\n",
    "\n",
    "print(\"Node attributes:\", G.nodes.data())\n",
    "print(\"Edge attributes:\", G.edges.data())\n",
    "\n",
    "# Checking graph properties\n",
    "print(\"Number of nodes:\", G.number_of_nodes())\n",
    "print(\"Number of edges:\", G.number_of_edges())"
   ]
  },
  {
   "cell_type": "markdown",
   "id": "99400998-d924-4012-aaf7-85d8958a6786",
   "metadata": {},
   "source": [
    "## 4. Graph Traversal and Algorithms"
   ]
  },
  {
   "cell_type": "code",
   "execution_count": 3,
   "id": "b1aa486f-c3d8-41ca-a944-0df4a7b68d34",
   "metadata": {},
   "outputs": [
    {
     "name": "stdout",
     "output_type": "stream",
     "text": [
      "BFS Traversal starting from node 1:\n",
      "1 -> 2 -> 3 -> 4 -> End\n"
     ]
    }
   ],
   "source": [
    "# Breadth-First Search (BFS)\n",
    "def bfs_traversal(graph, start_node):\n",
    "    visited = set()\n",
    "    queue = [start_node]\n",
    "    \n",
    "    while queue:\n",
    "        node = queue.pop(0)\n",
    "        if node not in visited:\n",
    "            print(node, end=\" -> \")\n",
    "            visited.add(node)\n",
    "            queue.extend(set(graph.neighbors(node)) - visited)\n",
    "    \n",
    "    print(\"End\")\n",
    "\n",
    "print(\"BFS Traversal starting from node 1:\")\n",
    "bfs_traversal(G, 1)"
   ]
  },
  {
   "cell_type": "code",
   "execution_count": 4,
   "id": "98cb7bbf-209b-4d17-8b94-a7a020bfa78a",
   "metadata": {},
   "outputs": [
    {
     "name": "stdout",
     "output_type": "stream",
     "text": [
      "Shortest path from node 1 to 4: [1, 4]\n"
     ]
    }
   ],
   "source": [
    "# Shortest Path using Dijkstra's Algorithm\n",
    "shortest_path = nx.shortest_path(G, source=1, target=4)\n",
    "print(\"Shortest path from node 1 to 4:\", shortest_path)"
   ]
  },
  {
   "cell_type": "markdown",
   "id": "4d735f8d-00e9-4e4b-99da-c5a0472ac35c",
   "metadata": {},
   "source": [
    "## 5. Real-World Applications of NetworkX\n",
    "\n",
    "\n",
    "- Social Network Analysis: Identifying communities and influencers\n",
    "- Bioinformatics: Analyzing protein interactions\n",
    "- Transportation Networks: Finding shortest routes\n",
    "- Recommendation Systems: Suggesting friends, products, or content\n",
    "\n",
    "\n",
    "# Conclusion\n",
    "\n",
    "✅ We introduced NetworkX and its capabilities.\n",
    "\n",
    "✅ We created and visualized graphs in Python.\n",
    "\n",
    "✅ We explored node and edge attributes.\n",
    "\n",
    "✅ We implemented BFS traversal and shortest path computation.\n",
    "\n",
    "✅ We discussed real-world applications of NetworkX."
   ]
  },
  {
   "cell_type": "code",
   "execution_count": null,
   "id": "411f2015-d5e0-46cd-99c4-b191aba5febc",
   "metadata": {},
   "outputs": [],
   "source": []
  }
 ],
 "metadata": {
  "kernelspec": {
   "display_name": "Python 3 (ipykernel)",
   "language": "python",
   "name": "python3"
  },
  "language_info": {
   "codemirror_mode": {
    "name": "ipython",
    "version": 3
   },
   "file_extension": ".py",
   "mimetype": "text/x-python",
   "name": "python",
   "nbconvert_exporter": "python",
   "pygments_lexer": "ipython3",
   "version": "3.12.4"
  }
 },
 "nbformat": 4,
 "nbformat_minor": 5
}